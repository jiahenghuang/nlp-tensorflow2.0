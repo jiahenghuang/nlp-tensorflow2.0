{
 "cells": [
  {
   "cell_type": "code",
   "execution_count": 1,
   "metadata": {},
   "outputs": [],
   "source": [
    "import random\n",
    "import numpy as np\n",
    "\n",
    "def read_file(file_path: str) -> [str]:\n",
    "    with open(file_path, 'r') as f:\n",
    "        texts = f.read().split('\\n')\n",
    "    return texts\n",
    "\n",
    "def msra_preprocessing(split_rate: float = 0.8,\n",
    "                       ignore_exist: bool = False) -> None:\n",
    "    path_train = 'data/MSRA/train.txt'\n",
    "    path_test = 'data/MSRA/test.txt'\n",
    "\n",
    "    print(\"正在对MSRA数据进行预处理......\")\n",
    "    path_train1 = 'data/MSRA/train1.txt'\n",
    "    texts = read_file(path_train1)\n",
    "    random.shuffle(texts)\n",
    "    \n",
    "    split_index = int(len(texts) * split_rate)\n",
    "    train_texts = texts[:split_index]\n",
    "    test_texts = texts[split_index:]\n",
    "\n",
    "    test_ = text_map(test_texts)\n",
    "    train_ = text_map(train_texts)\n",
    "\n",
    "    with open(path_train, 'w') as f:\n",
    "        f.write(\"\".join(train_))\n",
    "    with open(path_test, 'w') as f:\n",
    "        f.write(\"\".join(test_))\n",
    "    print(\"MSRA数据进行预处理完成 ---- OK!\")\n",
    "\n",
    "unk_flag = '[UNK]'\n",
    "pad_flag = '[PAD]'\n",
    "cls_flag = '[CLS]'\n",
    "sep_flag = '[SEP]'\n",
    "\n",
    "# 获取 word to index 词典\n",
    "def get_w2i(vocab_path='data/vocab/vocab.txt'):\n",
    "    w2i = {}\n",
    "    with open(vocab_path, 'r') as f:\n",
    "        while True:\n",
    "            text = f.readline()\n",
    "            if not text:\n",
    "                break\n",
    "            text = text.strip()\n",
    "            if text and len(text) > 0:\n",
    "                w2i[text] = len(w2i) + 1\n",
    "    return w2i\n",
    "\n",
    "# 文本映射\n",
    "def text_map(texts: [str]) -> [str]:\n",
    "    \"\"\"\n",
    "    文本映射处理\n",
    "    处理好的数据格式:\n",
    "       ['需 O'\n",
    "        '要 O'\n",
    "        '大 B-ORG'\n",
    "        '连 I-ORG'\n",
    "        '海 I-ORG'\n",
    "        '富 I-ORG'\n",
    "        '集 I-ORG'\n",
    "        '团 I-ORG']\n",
    "\n",
    "    :param texts:  例如 中/B_nt 共/M_nt 中/M_nt 央/E_nt 总/O  的文本\n",
    "    :return: [str] 处理好的数据\n",
    "    \"\"\"\n",
    "    mapping = {\n",
    "        'nr': 'PER',\n",
    "        'ns': 'LOC',\n",
    "        'nt': 'ORG'\n",
    "    }\n",
    "    deal_texts = []\n",
    "    for line in texts:\n",
    "        sub_line = str(line).split(' ')\n",
    "        for item in sub_line:\n",
    "            item_list = str(item).split('/')\n",
    "            if len(item_list) == 2:\n",
    "                a = item_list[0]\n",
    "                b = item_list[1]\n",
    "                if b in mapping:\n",
    "                    flag = mapping[b]\n",
    "                    for i, char in enumerate(a):\n",
    "                        if i == 0:\n",
    "                            deal_texts.append(f\"{char} B-{flag}\\n\")\n",
    "                        else:\n",
    "                            deal_texts.append(f\"{char} I-{flag}\\n\")\n",
    "                else:\n",
    "                    for char in a:\n",
    "                        deal_texts.append(f\"{char} O\\n\")\n",
    "        deal_texts.append('\\n')\n",
    "    return deal_texts\n",
    "\n",
    "# 获取 tag to index 词典\n",
    "def get_tag2index():\n",
    "    return {\"O\": 0,\n",
    "            \"B-PER\": 1, \"I-PER\": 2,\n",
    "            \"B-LOC\": 3, \"I-LOC\": 4,\n",
    "            \"B-ORG\": 5, \"I-ORG\": 6\n",
    "            }\n",
    "class DataProcess(object):\n",
    "    def __init__(self,\n",
    "                 max_len=100,\n",
    "                 ):\n",
    "        \"\"\"\n",
    "        数据处理\n",
    "        :param max_len: 句子最长的长度，默认为保留100\n",
    "        :param data_type: 数据类型，当前支持四种数据类型\n",
    "        \"\"\"\n",
    "        self.w2i = get_w2i()  # word to index\n",
    "        self.tag2index = get_tag2index()  # tag to index\n",
    "        self.vocab_size = len(self.w2i)\n",
    "        self.tag_size = len(self.tag2index)\n",
    "        self.unk_flag = unk_flag\n",
    "        self.pad_flag = pad_flag\n",
    "        self.max_len = max_len\n",
    "\n",
    "        self.unk_index = self.w2i.get(unk_flag, 101)\n",
    "        self.pad_index = self.w2i.get(pad_flag, 1)\n",
    "        self.cls_index = self.w2i.get(cls_flag, 102)\n",
    "        self.sep_index = self.w2i.get(sep_flag, 103)\n",
    "        msra_preprocessing()\n",
    "\n",
    "    def get_data(self, one_hot: bool = True) -> ([], [], [], []):\n",
    "        \"\"\"\n",
    "        获取数据，包括训练、测试数据中的数据和标签\n",
    "        :param one_hot:\n",
    "        :return:\n",
    "        \"\"\"\n",
    "        # 拼接地址\n",
    "        path_train = 'data/MSRA/train.txt'\n",
    "        path_test = 'data/MSRA/test.txt'\n",
    "        # 读取数据\n",
    "        train_data, train_label = self.__text_to_indexs(path_train)\n",
    "        test_data, test_label = self.__text_to_indexs(path_test)\n",
    "\n",
    "        # 进行 one-hot处理\n",
    "        if one_hot:\n",
    "            def label_to_one_hot(index: []) -> []:\n",
    "                data = []\n",
    "                for line in index:\n",
    "                    data_line = []\n",
    "                    for i, index in enumerate(line):\n",
    "                        line_line = [0]*self.tag_size\n",
    "                        line_line[index] = 1\n",
    "                        data_line.append(line_line)\n",
    "                    data.append(data_line)\n",
    "                return np.array(data)\n",
    "            train_label = label_to_one_hot(index=train_label)\n",
    "            test_label = label_to_one_hot(index=test_label)\n",
    "        else:\n",
    "            train_label = np.expand_dims(train_label, 2)\n",
    "            test_label = np.expand_dims(test_label, 2)\n",
    "        return train_data, train_label, test_data, test_label\n",
    "\n",
    "    def num2tag(self):\n",
    "        return dict(zip(self.tag2index.values(), self.tag2index.keys()))\n",
    "\n",
    "    def i2w(self):\n",
    "        return dict(zip(self.w2i.values(), self.w2i.keys()))\n",
    "\n",
    "    # texts 转化为 index序列\n",
    "    def __text_to_indexs(self, file_path: str) -> ([], []):\n",
    "        data, label = [], []\n",
    "        with open(file_path, 'r') as f:\n",
    "            line_data,  line_label = [], []\n",
    "            for line in f:\n",
    "                if line != '\\n':\n",
    "                    w, t = line.split()\n",
    "                    char_index = self.w2i.get(w, self.w2i[self.unk_flag])\n",
    "                    tag_index = self.tag2index.get(t, 0)\n",
    "                    line_data.append(char_index)\n",
    "                    line_label.append(tag_index)\n",
    "                else:\n",
    "                    if len(line_data) < self.max_len:\n",
    "                        pad_num = self.max_len - len(line_data)\n",
    "                        line_data = [self.pad_index]*pad_num + line_data\n",
    "                        line_label = [0]*pad_num + line_label\n",
    "                    else:\n",
    "                        line_data = line_data[:self.max_len]\n",
    "                        line_label = line_label[:self.max_len]\n",
    "                    data.append(line_data)\n",
    "                    label.append(line_label)\n",
    "                    line_data, line_label = [], []\n",
    "        return np.array(data), np.array(label)"
   ]
  },
  {
   "cell_type": "code",
   "execution_count": 2,
   "metadata": {},
   "outputs": [
    {
     "name": "stdout",
     "output_type": "stream",
     "text": [
      "正在对MSRA数据进行预处理......\n",
      "MSRA数据进行预处理完成 ---- OK!\n"
     ]
    }
   ],
   "source": [
    "dp = DataProcess()\n",
    "train_data, train_label, test_data, test_label = dp.get_data(one_hot=True)"
   ]
  },
  {
   "cell_type": "code",
   "execution_count": 3,
   "metadata": {},
   "outputs": [
    {
     "data": {
      "text/plain": [
       "((37092, 100), (37092, 100, 7))"
      ]
     },
     "execution_count": 3,
     "metadata": {},
     "output_type": "execute_result"
    }
   ],
   "source": [
    "train_data.shape,train_label.shape"
   ]
  },
  {
   "cell_type": "code",
   "execution_count": 4,
   "metadata": {},
   "outputs": [
    {
     "name": "stderr",
     "output_type": "stream",
     "text": [
      "Using TensorFlow backend.\n",
      "/Library/Python/3.7/site-packages/tensorflow/python/framework/dtypes.py:516: FutureWarning: Passing (type, 1) or '1type' as a synonym of type is deprecated; in a future version of numpy, it will be understood as (type, (1,)) / '(1,)type'.\n",
      "  _np_qint8 = np.dtype([(\"qint8\", np.int8, 1)])\n",
      "/Library/Python/3.7/site-packages/tensorflow/python/framework/dtypes.py:517: FutureWarning: Passing (type, 1) or '1type' as a synonym of type is deprecated; in a future version of numpy, it will be understood as (type, (1,)) / '(1,)type'.\n",
      "  _np_quint8 = np.dtype([(\"quint8\", np.uint8, 1)])\n",
      "/Library/Python/3.7/site-packages/tensorflow/python/framework/dtypes.py:518: FutureWarning: Passing (type, 1) or '1type' as a synonym of type is deprecated; in a future version of numpy, it will be understood as (type, (1,)) / '(1,)type'.\n",
      "  _np_qint16 = np.dtype([(\"qint16\", np.int16, 1)])\n",
      "/Library/Python/3.7/site-packages/tensorflow/python/framework/dtypes.py:519: FutureWarning: Passing (type, 1) or '1type' as a synonym of type is deprecated; in a future version of numpy, it will be understood as (type, (1,)) / '(1,)type'.\n",
      "  _np_quint16 = np.dtype([(\"quint16\", np.uint16, 1)])\n",
      "/Library/Python/3.7/site-packages/tensorflow/python/framework/dtypes.py:520: FutureWarning: Passing (type, 1) or '1type' as a synonym of type is deprecated; in a future version of numpy, it will be understood as (type, (1,)) / '(1,)type'.\n",
      "  _np_qint32 = np.dtype([(\"qint32\", np.int32, 1)])\n",
      "/Library/Python/3.7/site-packages/tensorflow/python/framework/dtypes.py:525: FutureWarning: Passing (type, 1) or '1type' as a synonym of type is deprecated; in a future version of numpy, it will be understood as (type, (1,)) / '(1,)type'.\n",
      "  np_resource = np.dtype([(\"resource\", np.ubyte, 1)])\n",
      "/Library/Python/3.7/site-packages/tensorboard/compat/tensorflow_stub/dtypes.py:541: FutureWarning: Passing (type, 1) or '1type' as a synonym of type is deprecated; in a future version of numpy, it will be understood as (type, (1,)) / '(1,)type'.\n",
      "  _np_qint8 = np.dtype([(\"qint8\", np.int8, 1)])\n",
      "/Library/Python/3.7/site-packages/tensorboard/compat/tensorflow_stub/dtypes.py:542: FutureWarning: Passing (type, 1) or '1type' as a synonym of type is deprecated; in a future version of numpy, it will be understood as (type, (1,)) / '(1,)type'.\n",
      "  _np_quint8 = np.dtype([(\"quint8\", np.uint8, 1)])\n",
      "/Library/Python/3.7/site-packages/tensorboard/compat/tensorflow_stub/dtypes.py:543: FutureWarning: Passing (type, 1) or '1type' as a synonym of type is deprecated; in a future version of numpy, it will be understood as (type, (1,)) / '(1,)type'.\n",
      "  _np_qint16 = np.dtype([(\"qint16\", np.int16, 1)])\n",
      "/Library/Python/3.7/site-packages/tensorboard/compat/tensorflow_stub/dtypes.py:544: FutureWarning: Passing (type, 1) or '1type' as a synonym of type is deprecated; in a future version of numpy, it will be understood as (type, (1,)) / '(1,)type'.\n",
      "  _np_quint16 = np.dtype([(\"quint16\", np.uint16, 1)])\n",
      "/Library/Python/3.7/site-packages/tensorboard/compat/tensorflow_stub/dtypes.py:545: FutureWarning: Passing (type, 1) or '1type' as a synonym of type is deprecated; in a future version of numpy, it will be understood as (type, (1,)) / '(1,)type'.\n",
      "  _np_qint32 = np.dtype([(\"qint32\", np.int32, 1)])\n",
      "/Library/Python/3.7/site-packages/tensorboard/compat/tensorflow_stub/dtypes.py:550: FutureWarning: Passing (type, 1) or '1type' as a synonym of type is deprecated; in a future version of numpy, it will be understood as (type, (1,)) / '(1,)type'.\n",
      "  np_resource = np.dtype([(\"resource\", np.ubyte, 1)])\n"
     ]
    }
   ],
   "source": [
    "from keras.models import Model\n",
    "from keras.layers import Embedding, Bidirectional, LSTM, Dense, Dropout, Input\n",
    "from keras_contrib.layers import CRF\n",
    "\n",
    "class BILSTMCRF():\n",
    "    def __init__(self,\n",
    "                 vocab_size: int,\n",
    "                 n_class: int,\n",
    "                 embedding_dim: int = 128,\n",
    "                 rnn_units: int = 128,\n",
    "                 drop_rate: float = 0.5,\n",
    "                 ):\n",
    "        self.vocab_size = vocab_size\n",
    "        self.n_class = n_class\n",
    "        self.embedding_dim = embedding_dim\n",
    "        self.rnn_units = rnn_units\n",
    "        self.drop_rate = drop_rate\n",
    "\n",
    "    def create_model(self):\n",
    "        inputs = Input(shape=(None,))\n",
    "        x = Embedding(input_dim=self.vocab_size, output_dim=self.embedding_dim)(inputs)\n",
    "        x = Bidirectional(LSTM(units=self.rnn_units, return_sequences=True))(x)\n",
    "        x = Dropout(self.drop_rate)(x)\n",
    "        x = Dense(self.n_class)(x)\n",
    "        self.crf = CRF(self.n_class, sparse_target=False)\n",
    "        x = self.crf(x)\n",
    "        self.model = Model(inputs=inputs, outputs=x)\n",
    "        self.model.summary()\n",
    "        self.compile()\n",
    "        return self.model\n",
    "\n",
    "    def compile(self):\n",
    "        self.model.compile('adam',\n",
    "                           loss=self.crf.loss_function,\n",
    "                           metrics=[self.crf.accuracy])"
   ]
  },
  {
   "cell_type": "code",
   "execution_count": 5,
   "metadata": {},
   "outputs": [],
   "source": [
    "model = BILSTMCRF(dp.vocab_size, dp.tag_size)"
   ]
  },
  {
   "cell_type": "code",
   "execution_count": 6,
   "metadata": {},
   "outputs": [
    {
     "data": {
      "text/plain": [
       "21127"
      ]
     },
     "execution_count": 6,
     "metadata": {},
     "output_type": "execute_result"
    }
   ],
   "source": [
    "dp.vocab_size"
   ]
  },
  {
   "cell_type": "code",
   "execution_count": 7,
   "metadata": {},
   "outputs": [
    {
     "data": {
      "text/plain": [
       "7"
      ]
     },
     "execution_count": 7,
     "metadata": {},
     "output_type": "execute_result"
    }
   ],
   "source": [
    "dp.tag_size"
   ]
  },
  {
   "cell_type": "code",
   "execution_count": 8,
   "metadata": {},
   "outputs": [
    {
     "name": "stdout",
     "output_type": "stream",
     "text": [
      "WARNING:tensorflow:From /Library/Python/3.7/site-packages/keras/backend/tensorflow_backend.py:74: The name tf.get_default_graph is deprecated. Please use tf.compat.v1.get_default_graph instead.\n",
      "\n",
      "WARNING:tensorflow:From /Library/Python/3.7/site-packages/keras/backend/tensorflow_backend.py:517: The name tf.placeholder is deprecated. Please use tf.compat.v1.placeholder instead.\n",
      "\n",
      "WARNING:tensorflow:From /Library/Python/3.7/site-packages/keras/backend/tensorflow_backend.py:4138: The name tf.random_uniform is deprecated. Please use tf.random.uniform instead.\n",
      "\n",
      "WARNING:tensorflow:From /Library/Python/3.7/site-packages/keras/backend/tensorflow_backend.py:133: The name tf.placeholder_with_default is deprecated. Please use tf.compat.v1.placeholder_with_default instead.\n",
      "\n",
      "WARNING:tensorflow:From /Library/Python/3.7/site-packages/keras/backend/tensorflow_backend.py:3445: calling dropout (from tensorflow.python.ops.nn_ops) with keep_prob is deprecated and will be removed in a future version.\n",
      "Instructions for updating:\n",
      "Please use `rate` instead of `keep_prob`. Rate should be set to `rate = 1 - keep_prob`.\n",
      "_________________________________________________________________\n",
      "Layer (type)                 Output Shape              Param #   \n",
      "=================================================================\n",
      "input_1 (InputLayer)         (None, None)              0         \n",
      "_________________________________________________________________\n",
      "embedding_1 (Embedding)      (None, None, 128)         2704256   \n",
      "_________________________________________________________________\n",
      "bidirectional_1 (Bidirection (None, None, 256)         263168    \n",
      "_________________________________________________________________\n",
      "dropout_1 (Dropout)          (None, None, 256)         0         \n",
      "_________________________________________________________________\n",
      "dense_1 (Dense)              (None, None, 7)           1799      \n",
      "_________________________________________________________________\n",
      "crf_1 (CRF)                  (None, None, 7)           119       \n",
      "=================================================================\n",
      "Total params: 2,969,342\n",
      "Trainable params: 2,969,342\n",
      "Non-trainable params: 0\n",
      "_________________________________________________________________\n",
      "WARNING:tensorflow:From /Library/Python/3.7/site-packages/keras/optimizers.py:790: The name tf.train.Optimizer is deprecated. Please use tf.compat.v1.train.Optimizer instead.\n",
      "\n",
      "WARNING:tensorflow:From /Library/Python/3.7/site-packages/tensorflow/python/ops/math_ops.py:2403: add_dispatch_support.<locals>.wrapper (from tensorflow.python.ops.array_ops) is deprecated and will be removed in a future version.\n",
      "Instructions for updating:\n",
      "Use tf.where in 2.0, which has the same broadcast rule as np.where\n"
     ]
    },
    {
     "name": "stderr",
     "output_type": "stream",
     "text": [
      "/Library/Python/3.7/site-packages/keras_contrib-2.0.8-py3.7.egg/keras_contrib/layers/crf.py:346: UserWarning: CRF.loss_function is deprecated and it might be removed in the future. Please use losses.crf_loss instead.\n",
      "  warnings.warn('CRF.loss_function is deprecated '\n",
      "/Library/Python/3.7/site-packages/keras_contrib-2.0.8-py3.7.egg/keras_contrib/layers/crf.py:353: UserWarning: CRF.accuracy is deprecated and it might be removed in the future. Please use metrics.crf_accuracy\n",
      "  warnings.warn('CRF.accuracy is deprecated and it '\n"
     ]
    },
    {
     "data": {
      "text/plain": [
       "<keras.engine.training.Model at 0x11e1a8668>"
      ]
     },
     "execution_count": 8,
     "metadata": {},
     "output_type": "execute_result"
    }
   ],
   "source": [
    "model.create_model()"
   ]
  },
  {
   "cell_type": "code",
   "execution_count": 12,
   "metadata": {},
   "outputs": [
    {
     "name": "stdout",
     "output_type": "stream",
     "text": [
      "WARNING:tensorflow:From /Library/Python/3.7/site-packages/keras/backend/tensorflow_backend.py:986: The name tf.assign_add is deprecated. Please use tf.compat.v1.assign_add instead.\n",
      "\n",
      "Train on 37092 samples, validate on 9273 samples\n",
      "Epoch 1/10\n",
      "37092/37092 [==============================] - 129s 3ms/step - loss: 0.2157 - crf_viterbi_accuracy: 0.9386 - val_loss: 0.1046 - val_crf_viterbi_accuracy: 0.9649\n",
      "Epoch 2/10\n",
      "37092/37092 [==============================] - 130s 4ms/step - loss: 0.0769 - crf_viterbi_accuracy: 0.9746 - val_loss: 0.0586 - val_crf_viterbi_accuracy: 0.9795\n",
      "Epoch 3/10\n",
      "37092/37092 [==============================] - 128s 3ms/step - loss: 0.0513 - crf_viterbi_accuracy: 0.9820 - val_loss: 0.0454 - val_crf_viterbi_accuracy: 0.9834\n",
      "Epoch 4/10\n",
      "37092/37092 [==============================] - 132s 4ms/step - loss: 0.0408 - crf_viterbi_accuracy: 0.9850 - val_loss: 0.0388 - val_crf_viterbi_accuracy: 0.9853\n",
      "Epoch 5/10\n",
      "37092/37092 [==============================] - 136s 4ms/step - loss: 0.0339 - crf_viterbi_accuracy: 0.9872 - val_loss: 0.0333 - val_crf_viterbi_accuracy: 0.9868\n",
      "Epoch 6/10\n",
      "37092/37092 [==============================] - 140s 4ms/step - loss: 0.0285 - crf_viterbi_accuracy: 0.9889 - val_loss: 0.0298 - val_crf_viterbi_accuracy: 0.9877\n",
      "Epoch 7/10\n",
      "37092/37092 [==============================] - 139s 4ms/step - loss: 0.0243 - crf_viterbi_accuracy: 0.9901 - val_loss: 0.0265 - val_crf_viterbi_accuracy: 0.9886\n",
      "Epoch 8/10\n",
      "37092/37092 [==============================] - 152s 4ms/step - loss: 0.0208 - crf_viterbi_accuracy: 0.9911 - val_loss: 0.0254 - val_crf_viterbi_accuracy: 0.9885\n",
      "Epoch 9/10\n",
      "37092/37092 [==============================] - 206s 6ms/step - loss: 0.0178 - crf_viterbi_accuracy: 0.9919 - val_loss: 0.0224 - val_crf_viterbi_accuracy: 0.9895\n",
      "Epoch 10/10\n",
      "37092/37092 [==============================] - 205s 6ms/step - loss: 0.0148 - crf_viterbi_accuracy: 0.9927 - val_loss: 0.0201 - val_crf_viterbi_accuracy: 0.9898\n"
     ]
    },
    {
     "data": {
      "text/plain": [
       "<keras.callbacks.History at 0x11e9b6a20>"
      ]
     },
     "execution_count": 12,
     "metadata": {},
     "output_type": "execute_result"
    }
   ],
   "source": [
    "model.model.fit(train_data, train_label, batch_size=128, epochs=10,\n",
    "              validation_data=[test_data, test_label])"
   ]
  },
  {
   "cell_type": "code",
   "execution_count": null,
   "metadata": {},
   "outputs": [],
   "source": []
  }
 ],
 "metadata": {
  "kernelspec": {
   "display_name": "Python 3",
   "language": "python",
   "name": "python3"
  },
  "language_info": {
   "codemirror_mode": {
    "name": "ipython",
    "version": 3
   },
   "file_extension": ".py",
   "mimetype": "text/x-python",
   "name": "python",
   "nbconvert_exporter": "python",
   "pygments_lexer": "ipython3",
   "version": "3.7.3"
  }
 },
 "nbformat": 4,
 "nbformat_minor": 4
}
