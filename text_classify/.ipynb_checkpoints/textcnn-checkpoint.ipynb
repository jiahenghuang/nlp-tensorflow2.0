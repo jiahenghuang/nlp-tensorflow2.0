{
 "cells": [
  {
   "cell_type": "code",
   "execution_count": 1,
   "metadata": {},
   "outputs": [
    {
     "name": "stderr",
     "output_type": "stream",
     "text": [
      "/Library/Python/3.7/site-packages/tensorflow/python/framework/dtypes.py:523: FutureWarning: Passing (type, 1) or '1type' as a synonym of type is deprecated; in a future version of numpy, it will be understood as (type, (1,)) / '(1,)type'.\n",
      "  _np_qint8 = np.dtype([(\"qint8\", np.int8, 1)])\n",
      "/Library/Python/3.7/site-packages/tensorflow/python/framework/dtypes.py:524: FutureWarning: Passing (type, 1) or '1type' as a synonym of type is deprecated; in a future version of numpy, it will be understood as (type, (1,)) / '(1,)type'.\n",
      "  _np_quint8 = np.dtype([(\"quint8\", np.uint8, 1)])\n",
      "/Library/Python/3.7/site-packages/tensorflow/python/framework/dtypes.py:525: FutureWarning: Passing (type, 1) or '1type' as a synonym of type is deprecated; in a future version of numpy, it will be understood as (type, (1,)) / '(1,)type'.\n",
      "  _np_qint16 = np.dtype([(\"qint16\", np.int16, 1)])\n",
      "/Library/Python/3.7/site-packages/tensorflow/python/framework/dtypes.py:526: FutureWarning: Passing (type, 1) or '1type' as a synonym of type is deprecated; in a future version of numpy, it will be understood as (type, (1,)) / '(1,)type'.\n",
      "  _np_quint16 = np.dtype([(\"quint16\", np.uint16, 1)])\n",
      "/Library/Python/3.7/site-packages/tensorflow/python/framework/dtypes.py:527: FutureWarning: Passing (type, 1) or '1type' as a synonym of type is deprecated; in a future version of numpy, it will be understood as (type, (1,)) / '(1,)type'.\n",
      "  _np_qint32 = np.dtype([(\"qint32\", np.int32, 1)])\n",
      "/Library/Python/3.7/site-packages/tensorflow/python/framework/dtypes.py:532: FutureWarning: Passing (type, 1) or '1type' as a synonym of type is deprecated; in a future version of numpy, it will be understood as (type, (1,)) / '(1,)type'.\n",
      "  np_resource = np.dtype([(\"resource\", np.ubyte, 1)])\n"
     ]
    },
    {
     "name": "stdout",
     "output_type": "stream",
     "text": [
      "2.0.0-alpha0\n",
      "2.2.4-tf\n"
     ]
    },
    {
     "name": "stderr",
     "output_type": "stream",
     "text": [
      "/Library/Python/3.7/site-packages/tensorboard/compat/tensorflow_stub/dtypes.py:541: FutureWarning: Passing (type, 1) or '1type' as a synonym of type is deprecated; in a future version of numpy, it will be understood as (type, (1,)) / '(1,)type'.\n",
      "  _np_qint8 = np.dtype([(\"qint8\", np.int8, 1)])\n",
      "/Library/Python/3.7/site-packages/tensorboard/compat/tensorflow_stub/dtypes.py:542: FutureWarning: Passing (type, 1) or '1type' as a synonym of type is deprecated; in a future version of numpy, it will be understood as (type, (1,)) / '(1,)type'.\n",
      "  _np_quint8 = np.dtype([(\"quint8\", np.uint8, 1)])\n",
      "/Library/Python/3.7/site-packages/tensorboard/compat/tensorflow_stub/dtypes.py:543: FutureWarning: Passing (type, 1) or '1type' as a synonym of type is deprecated; in a future version of numpy, it will be understood as (type, (1,)) / '(1,)type'.\n",
      "  _np_qint16 = np.dtype([(\"qint16\", np.int16, 1)])\n",
      "/Library/Python/3.7/site-packages/tensorboard/compat/tensorflow_stub/dtypes.py:544: FutureWarning: Passing (type, 1) or '1type' as a synonym of type is deprecated; in a future version of numpy, it will be understood as (type, (1,)) / '(1,)type'.\n",
      "  _np_quint16 = np.dtype([(\"quint16\", np.uint16, 1)])\n",
      "/Library/Python/3.7/site-packages/tensorboard/compat/tensorflow_stub/dtypes.py:545: FutureWarning: Passing (type, 1) or '1type' as a synonym of type is deprecated; in a future version of numpy, it will be understood as (type, (1,)) / '(1,)type'.\n",
      "  _np_qint32 = np.dtype([(\"qint32\", np.int32, 1)])\n",
      "/Library/Python/3.7/site-packages/tensorboard/compat/tensorflow_stub/dtypes.py:550: FutureWarning: Passing (type, 1) or '1type' as a synonym of type is deprecated; in a future version of numpy, it will be understood as (type, (1,)) / '(1,)type'.\n",
      "  np_resource = np.dtype([(\"resource\", np.ubyte, 1)])\n"
     ]
    }
   ],
   "source": [
    "import tensorflow as tf\n",
    "print(tf.__version__)\n",
    "print(tf.keras.__version__)"
   ]
  },
  {
   "cell_type": "code",
   "execution_count": 2,
   "metadata": {},
   "outputs": [],
   "source": [
    "import os\n",
    "import csv\n",
    "import time\n",
    "import datetime\n",
    "import random\n",
    "import json\n",
    "from collections import Counter\n",
    "from math import sqrt\n",
    "import gensim\n",
    "import pandas as pd\n",
    "import numpy as np\n",
    "from tensorflow.keras.utils import to_categorical\n",
    "\n",
    "from tensorflow.keras.layers import Input,Conv2D,MaxPool2D,concatenate,Flatten,Dense,Dropout,Embedding,Reshape\n",
    "from tensorflow.keras import Sequential,optimizers,losses\n",
    "from tensorflow.keras.models import Model\n",
    "from tensorflow.keras.preprocessing import sequence\n",
    "from tensorflow.keras.callbacks import ReduceLROnPlateau\n",
    "from tensorflow.keras import regularizers\n",
    "from tensorflow.keras.callbacks import EarlyStopping, ModelCheckpoint\n",
    "\n",
    "from sklearn.metrics import roc_auc_score, accuracy_score, precision_score, recall_score\n",
    "from bs4 import BeautifulSoup\n",
    "import logging\n",
    "import gensim\n",
    "from gensim.models import word2vec\n",
    "from gensim.models.word2vec import Word2Vec\n",
    "import multiprocessing\n",
    "import yaml\n",
    "import jieba"
   ]
  },
  {
   "cell_type": "code",
   "execution_count": 3,
   "metadata": {},
   "outputs": [],
   "source": [
    "class Config(object):\n",
    "    #数据集路径\n",
    "    dataSource = \"../marriage.txt\"\n",
    "    stopWordSource = \"../stopword.txt\"\n",
    "    #分词后保留大于等于最低词频的词\n",
    "    miniFreq=0\n",
    "    #统一输入文本序列的定长，取了所有序列长度的均值。超出将被截断，不足则补0\n",
    "    sequenceLength = 20 \n",
    "    batchSize=128\n",
    "    epochs=20\n",
    "    numClasses = 5\n",
    "    #训练集的比例\n",
    "    rate = 0.8  \n",
    "    #生成嵌入词向量的维度\n",
    "    embeddingSize = 200\n",
    "    #卷积核数\n",
    "    numFilters = 128\n",
    "    #卷积核大小\n",
    "    filterSizes = [1,2,3,4,5,6]\n",
    "    dropoutKeepProb = 0.5\n",
    "    #L2正则系数\n",
    "    l2RegLambda = 0.01\n",
    "# 实例化配置参数对象\n",
    "config = Config()"
   ]
  },
  {
   "cell_type": "code",
   "execution_count": 4,
   "metadata": {},
   "outputs": [
    {
     "data": {
      "text/plain": [
       "128"
      ]
     },
     "execution_count": 4,
     "metadata": {},
     "output_type": "execute_result"
    }
   ],
   "source": [
    "config.batchSize"
   ]
  },
  {
   "cell_type": "code",
   "execution_count": 5,
   "metadata": {},
   "outputs": [],
   "source": [
    "#中文语料\n",
    "#设置输出日志\n",
    "#logging.basicConfig(format='%(asctime)s : %(levelname)s : %(message)s', level=logging.INFO)\n",
    "\n",
    "file = open(\"../marriage.txt\") \n",
    "sentences=[]\n",
    "with open('../marriage.txt') as fr:\n",
    "    for line in fr.readlines():\n",
    "        temp=line.strip().split('\\t')\n",
    "#         sentences.append(jieba.lcut(temp[0]))\n",
    "        sentences.append(list(temp[0]))\n",
    "\n",
    "model = word2vec.Word2Vec(sentences,size=config.embeddingSize,\n",
    "                     min_count=config.miniFreq,\n",
    "                     window=10,\n",
    "                     workers=multiprocessing.cpu_count(),sg=1,\n",
    "                     iter=20)\n",
    "model.save('../word2VecModel')"
   ]
  },
  {
   "cell_type": "code",
   "execution_count": 6,
   "metadata": {},
   "outputs": [
    {
     "data": {
      "text/plain": [
       "dict_keys(['嗯', '有', '啊', '反', '了', '看', '没', '那', '太', '好', '几', '年', '零', '四', '是', '的', '我', '现', '在', '边', '上', '客', '户', '哎', '你', '稍', '等', '一', '下', '先', '过', '挂', '掉', '这', '还', '办', '最', '久', '都', '两', '班', '可', '能', '次', '再', '完', '跟', '他', '见', '多', '认', '证', '就', '问', '题', '但', '三', '报', '考', '交', '离', '婚', '拿', '事', '时', '候', '直', '接', '今', '天', '晚', '早', '走', '对', '吧', '大', '米', '然', '后', '弄', '回', '来', '说', '让', '钱', '吗', '号', '厅', '七', '呀', '听', '很', '吵', '份', '整', '个', '拜', '哇', '倒', '投', '诉', '不', '单', '身', '陈', '倩', '豆', '瓣', '带', '放', '啦', '给', '留', '线', '人', '方', '便', '答', '哈', '丢', '八', '前', '哦', '换', '正', '版', '呢', '半', '怪', '家', '里', '面', '出', '全', '呃', '妹', '找', '司', '法', '着', '急', '电', '话', '行', '选', '咋', '肯', '定', '改', '搬', '总', '共', '念', '奇', '意', '思', '已', '经', '退', '进', '确', '到', '们', '协', '议', '书', '章', '明', '点', '每', '坐', '车', '把', '错', '包', '括', '强', '调', '喂', '去', '也', '干', '啥', '帮', '吓', '跳', '常', '声', '开', '相', '爱', '午', '打', '加', '油', '会', '玩', '咱', '聊', '二', '十', '目', '些', '讲', '想', '旅', '游', '九', '猫', '跑', '姐', '成', '满', '网', '怕', '种', '工', '作', '卡', '坏', '老', '外', '嘛', '官', '什', '么', '院', '解', '只', '裁', '决', '诶', '哟', '谢', '您', '记', '要', '提', '当', '关', '站', '结', '束', '以', '难', '铺', '五', '农', '水', '平', '礼', '因', '为', '间', '志', '友', '别', '北', '京', '搞', '李', '峰', '镇', '唉', '牌', '道', '知', '品', '真', '呗', '样', '哪', '珍', '姥', '手', '月', '卫', '辉', '之', '发', '谁', '派', '暂', '用', '长', '案', '照', '玛', '像', '注', '册', '小', '阵', '算', '所', '示', '检', '体', '谅', '饿', '抢', '怎', '刚', '刘', '文', '必', '春', '节', '六', '判', '摆', '骗', '室', '件', '妈', '铁', '岭', '沈', '阳', '东', '西', '邮', '箱', '处', '吃', '饭', '得', '婆', '本', '登', '蚊', '子', '部', '分', '赵', '导', '爸', '居', '幺', '噢', '优', '雅', '应', '蚂', '蚁', '嫂', '钟', '嘞', '淘', '宝', '薄', '情', '传', '票', '空', '供', '签', '才', '卸', '载', '力', '量', '起', '讼', '仔', '细', '更', '深', '录', '懂', '娃', '服', '务', '果', '浩', '写', '概', '临', '汾', '触', '少', '该', '底', '随', '往', '员', '麻', '烦', '资', '料', '销', '快', '递', '同', '凌', '晨', '地', '朋', '场', '售', '张', '白', '纸', '红', '清', '楚', '枣', '待', '拍', '鸡', '呵', '期', '哼', '安', '排', '亲', '觉', '需', '语', 'w', 'o', 'r', 'd', '根', '邻', '向', '信', '新', '娘', '差', '公', '儿', '伴', '战', '播', '星', '万', '另', '支', '持', '于', '孩', '理', '杜', '位', '律', '效', '核', '实', '昨', '中', '名', '申', '虑', '自', '己', '区', '县', '联', '系', '例', '迁', '移', '转', '舞', '蹈', '马', '除', 's', '企', '业', '账', '连', '革', '翻', '近', '男', '挺', '轻', '如', '补', '字', '贵', '州', '请', '害', '冯', '燕', '花', '朵', '填', '鞋', '告', '烊', '比', '惠', '香', '港', '寄', '具', '益', '鸿', '乐', '抱', '它', '叫', '影', '响', '初', '江', '苏', '域', '英', '绑', '瞬', '洪', '城', '并', '姻', '皆', '欢', '喜', '南', '台', '湾', '段', '疯', '狂', '码', '通', 'v', 'i', 'p', '牙', '医', '周', '或', '者', '又', '女', '生', '撤', '头', '涨', '牛', '舒', '辛', '苦', '扰', '准', '备', '银', '机', '主', '动', '活', '兜', '国', '晓', '使', '斗', '罗', '陆', '楼', '验', '草', '阶', '杨', '凉', '希', '望', '广', '穿', '从', '压', '观', '众', '政', '升', '级', '摄', '合', '代', '阿', '装', '睡', '梅', '师', '查', '而', '视', '频', '遭', '遇', '淡', '顺', '骏', '纯', '盘', '岁', '基', '建', '忙', '试', '患', '聪', '做', '魔', '高', '担', '心', '呐', '棒', '千', '重', '妞', '灵', '魂', '晕', '般', '迷', '汕', '感', '阴', '风', '无', '锋', 'k', '操', '领', '翰', '未', '菜', '石', '庄', '嗳', '困', '碰', '壮', '局', '逃', '避', '路', '指', '变', '日', '卖', '复', '杂', '紧', '取', '消', '废', '征', '含', '蛋', '受', '限', '毛', '唱', '学', '历', '遗', '忘', '慢', '咯', '材', '值', '据', '神', '病', '策', '丧', '偶', '续', '缘', '尝', '增', '弹', '撑', '订', '百', '元', '贷', '士', '斥', '论', '骂', '闷', '火', '庭', '首', '纠', '纷', '黄', '混', '尺', '寸', '洲', '美', '和', '芦', '荟', '胶', '霉', '货', '按', '层', '简', '靠', '板', '伤', '庆', '片', '曾', '死', '估', '计', '滚', '送', '罢', '笑', '洗', '澡', '其', '蛮', '歉', '击', '介', '绍', '碌', '民', '丰', '利', '既', '口', '鸭', '势', '股', '买', '逗', '傍', '她', '善', '表', '歌', '修', '房', '盐', '炒', '顾', '喽', '抓', '爆', '态', '度', '适', '且', '内', '杭', '梨', '青', '山', '4', '0', '丽', '左', '右', '印', '设', '置', '兆', '类', '拨', '款', '金', '额', '借', '扣', '任', '娜', '扔', '须', '吕', '旁', '赔', '流', '犯', '愤', '范', '被', '存', '乱', '呦', '异', '球', '丶', '求', '赶', '键', '断', '冻', '骑', '鬼', '秒', '研', '究', '纪', '显', '润', '貌', '似', '宁', '妥', '微', '特', '门', '铃', '收', '令', '圈', '教', '推', '读', '脚', '鸣', '智', '桂', '梦', '商', '亮', '付', '详', '攻', '闭', '失', '占', '保', '佑', '拖', '况', '横', '斩', '队', '耶', '馈', '费', '噻', '术', '扮', '姚', '甲', '逼', '汉', '易', '败', '套', '举', '档', '拌', '溜', '冰', '贴', '膜', '王', '拥', '泵', '厂', '象', '坤', '伯', '杰', '俊', '际', '气', '挣', '参', '假', '删', '醒', '雁', '音', '状', '毁', '软', '赚', '器', '浪', '招', '圳', '住', '挖', '掘', '称', '惨', '邓', '块', '毕', '竟', '咽', '唤', '欠', '戏', '呼', '华', '泰', '遍', '闻', '控', '积', '散', '均', '替', '贾', '玲', '笔', '贩', '欧', '荐', '权', '课', '番', '偷', '购', '程', '卦', 'a', ' ', '巴', '徐', '尽', '越', '够', '浓', '黎', '宏', '振', '怀', '疑', '科', '评', '哥', '维', '羞', '批', '戚', '双', '秋', '柿', '汤', '狗', '胖', '输', '化', '绩', '端', '入', '丁', '伟', '灾', '沙', '烧', '拔', '谓', '绿', '静', '盖', '袋', '府', '炮', '嫁', '嚎', '咨', '询', '团', '密', '栋', '钥', '匙', '嘟', '努', '原', '质', '启', '吞', '噬', '云', '焊', '访', '店', '康', '海', '扫', '释', '审', '价', '粘', '谈', '致', '较', '糖', '校', '宽', '卷', '列', '嗨', '艺', '耽', '搁', '第', '标', '林', '朝', '市', 'q', '独', '立', '由', '樱', '童', '杠', '捎', '谎', '言', '旧', '达', '湿', '探', '讨', '震', '迟', '速', '沟', '性', '虽', '闺', '夏', '远', '与', '布', '捺', '始', '夜', '兴', '索', '脸', '嘲', '赖', '及', '匹', '配', '雯', '座', '灯', '属', '监', '猜', '统', '厉', '锁', '型', '舔', '尾', '隐', '私', '误', '荤', '巾', '何', '浏', '览', '颜', '药', '映', '约', '骚', '渠', '拾', '践', '奢', '侈', '良', '绝', '各', '稿', '架', '圣', '剑', '妆', '划', '雨', '奖', '励', '险', '式', '透', '露', '姓', '析', '愿', '孙', '刷', '涂', '黑', '休', '息', '创', '搜', '咸', '呆', '婉', '管', '条', '闲', '添', '厕', '钻', '促', '光', '纤', 'm', '追', '余', '郁', '伙', '链', '助', '预', '父', '尔', '运', '刻', '侍', '形', '乳', '眼', '功', '累', '凭', '测', '傻', '脑', '扯', '糟', '充', '昌', '址', '诞', '烟', '物', '帐', '省', '豪', '颁', '诈', '专', '框', '昏', '僭', 'y', '齐', '凤', '凰', '瓦', '温', '瑞', '昆', '图', '甘', '肃', '劝', '肛', '扎', '拉', '拼', '世', '湖', '故'])"
      ]
     },
     "execution_count": 6,
     "metadata": {},
     "output_type": "execute_result"
    }
   ],
   "source": [
    "model = gensim.models.Word2Vec.load('../word2VecModel')\n",
    "model.wv.vocab.keys()"
   ]
  },
  {
   "cell_type": "code",
   "execution_count": 7,
   "metadata": {},
   "outputs": [
    {
     "name": "stderr",
     "output_type": "stream",
     "text": [
      "/Library/Python/3.7/site-packages/ipykernel_launcher.py:1: DeprecationWarning: Call to deprecated `__getitem__` (Method will be removed in 4.0.0, use self.wv.__getitem__() instead).\n",
      "  \"\"\"Entry point for launching an IPython kernel.\n"
     ]
    },
    {
     "data": {
      "text/plain": [
       "array([-1.43606856e-01, -2.19424605e-01,  2.62992561e-01,  9.31685194e-02,\n",
       "       -1.41343743e-01, -1.87964607e-02, -1.08425267e-01, -3.23728472e-01,\n",
       "       -3.65407318e-01, -2.95757025e-01,  3.70974722e-03, -1.94570526e-01,\n",
       "        3.81151855e-01,  9.54387616e-03, -2.88044307e-02, -3.37926030e-01,\n",
       "       -3.14399242e-01, -2.72464126e-01,  2.35529593e-03,  4.65485230e-02,\n",
       "       -1.09014846e-01,  5.20865858e-01, -2.70556271e-01, -1.62934288e-01,\n",
       "        3.97764742e-02,  4.08296920e-02, -3.13850373e-01, -1.19922332e-01,\n",
       "        2.55123451e-02,  1.31551892e-01,  9.88067240e-02,  3.48047793e-01,\n",
       "       -2.96349794e-01, -3.95950712e-02,  1.80787146e-02,  2.50535101e-01,\n",
       "        2.18468964e-01, -2.73211300e-01,  1.26074487e-02, -7.63167441e-02,\n",
       "       -7.78302103e-02,  2.97368001e-02,  2.00555950e-01, -1.32960990e-01,\n",
       "        8.04063901e-02, -5.07856160e-02, -1.05161555e-01, -1.33241162e-01,\n",
       "        9.79321525e-02,  1.36936039e-01, -1.27198115e-01, -1.58546418e-01,\n",
       "       -1.03396952e-01,  5.27783744e-02,  3.30950506e-02,  1.04762144e-01,\n",
       "        2.09404126e-01,  3.19585800e-02, -9.00789350e-02,  7.32726678e-02,\n",
       "        2.02445596e-01, -5.27094759e-04, -1.97595563e-02,  5.30263260e-02,\n",
       "       -2.86261797e-01, -1.32548079e-01,  2.42615432e-01, -2.57701188e-01,\n",
       "       -2.33796924e-01,  4.69836518e-02, -7.98657984e-02, -1.45200804e-01,\n",
       "        1.90679371e-01,  1.79516301e-01,  9.37708747e-03,  3.79837751e-01,\n",
       "        1.42031923e-01,  1.68886855e-01, -1.22099817e-02, -1.29777923e-01,\n",
       "       -2.30107799e-01,  1.39131233e-01,  2.62225252e-02, -8.15407112e-02,\n",
       "       -1.26830060e-02,  1.16642743e-01, -2.04688478e-02, -6.98176324e-02,\n",
       "        4.61659938e-01,  3.42283100e-01,  3.41926776e-02, -2.02779040e-01,\n",
       "       -4.37248319e-01,  2.54677773e-01, -1.49503559e-01,  6.59683570e-02,\n",
       "        1.45470455e-01,  6.79230243e-02,  1.07992068e-01, -2.50073850e-01,\n",
       "        1.87471092e-01, -4.15124655e-01, -3.20330143e-01, -4.58127335e-02,\n",
       "        1.44792572e-01, -5.25056124e-01,  1.23940051e-01, -2.24303957e-02,\n",
       "        6.08932273e-03, -3.86630893e-02,  3.67766544e-02,  2.40848333e-01,\n",
       "        2.22714975e-01,  1.41008645e-01,  1.38982341e-01, -5.83591349e-02,\n",
       "        5.52496731e-01,  1.41900510e-01, -1.64563417e-01, -1.23500831e-01,\n",
       "        3.59119982e-01, -2.45057032e-01,  2.09168822e-01,  1.57738194e-01,\n",
       "        3.39949846e-01,  2.47025028e-01,  1.25987813e-01,  6.30415380e-02,\n",
       "        2.24899035e-02, -3.30008090e-01,  5.26669204e-01,  2.91467100e-01,\n",
       "       -2.11802095e-01, -2.40537986e-01,  4.30304974e-01, -2.18055937e-02,\n",
       "       -3.18129003e-01,  1.97886989e-01, -1.04509667e-01, -4.97419108e-03,\n",
       "        4.33933064e-02, -3.71205032e-01, -6.82513416e-02,  4.35493924e-02,\n",
       "        2.10689753e-01,  4.54503864e-01,  1.54741377e-01,  2.47586086e-01,\n",
       "        2.55298615e-01,  2.31273055e-01,  1.76274613e-01,  2.95772962e-02,\n",
       "       -1.04632070e-02,  4.31503057e-01, -9.11086649e-02,  2.60772586e-01,\n",
       "        1.12869451e-02, -2.75373310e-01,  2.73616791e-01, -1.74251407e-01,\n",
       "       -1.45359291e-02,  3.47071066e-02,  7.07931593e-02, -1.03639819e-01,\n",
       "       -1.20630398e-01, -6.75002933e-02,  1.95127025e-01,  1.72577947e-02,\n",
       "        1.66298896e-01, -3.74449268e-02,  2.74170451e-02, -1.77961104e-02,\n",
       "        1.07259266e-01,  1.78961735e-02,  3.85378003e-02, -8.60537440e-02,\n",
       "       -1.88852966e-01, -2.76561473e-02, -4.82714266e-01,  1.84668705e-01,\n",
       "        9.73703489e-02,  1.50681734e-02, -1.92471161e-01, -1.75323170e-02,\n",
       "       -3.12941313e-01,  1.53826341e-01,  1.27502173e-01, -8.37985054e-02,\n",
       "       -1.33128427e-02,  1.27167553e-01, -1.43638343e-01, -1.06548771e-01,\n",
       "       -8.03209171e-02, -2.46303990e-01, -1.76351935e-01,  2.79443800e-01,\n",
       "        1.01475194e-01, -2.26655640e-02,  2.23693207e-01, -6.25860319e-02],\n",
       "      dtype=float32)"
      ]
     },
     "execution_count": 7,
     "metadata": {},
     "output_type": "execute_result"
    }
   ],
   "source": [
    "model['信']"
   ]
  },
  {
   "cell_type": "code",
   "execution_count": 8,
   "metadata": {},
   "outputs": [
    {
     "name": "stderr",
     "output_type": "stream",
     "text": [
      "/Library/Python/3.7/site-packages/ipykernel_launcher.py:64: DeprecationWarning: Call to deprecated `__getitem__` (Method will be removed in 4.0.0, use self.wv.__getitem__() instead).\n"
     ]
    },
    {
     "name": "stdout",
     "output_type": "stream",
     "text": [
      "data: 6321 6321\n"
     ]
    }
   ],
   "source": [
    "# 数据预处理的类，生成训练集和测试集\n",
    "class Dataset(object):\n",
    "    def __init__(self, config):\n",
    "        self.dataSource = config.dataSource\n",
    "        self.stopWordSource = config.stopWordSource  \n",
    "        # 每条输入的序列处理为定长\n",
    "        self.sequenceLength = config.sequenceLength  \n",
    "        self.embeddingSize = config.embeddingSize\n",
    "        self.rate = config.rate\n",
    "        self.miniFreq=config.miniFreq\n",
    "        self.stopWordDict = {}\n",
    "        self.trainReviews = []\n",
    "        self.trainLabels = []\n",
    "        self.evalReviews = []\n",
    "        self.evalLabels = []\n",
    "        self.wordEmbedding =None\n",
    "        self.n_symbols=0\n",
    "        self.wordToIndex = {}\n",
    "        self.indexToWord = {}\n",
    "        \n",
    "    def readData(self, filePath):\n",
    "        import random\n",
    "        with open(filePath) as fr:\n",
    "            data=fr.readlines()\n",
    "        random.shuffle(data)\n",
    "        with open(filePath,'w') as fw:\n",
    "            fw.write(''.join(data))\n",
    "        text=[]\n",
    "        label=[]\n",
    "        with open(filePath) as fr:\n",
    "            for line in file:\n",
    "                temp=line.strip().split('\\t')\n",
    "                text.append(temp[0])\n",
    "                label.append(temp[1])\n",
    "        print('data:',len(text),len(label))\n",
    "#         texts = [jieba.cut(document) for document in text]\n",
    "        texts = [list(document) for document in text]\n",
    "        return texts, label\n",
    "    \n",
    "    def readStopWord(self, stopWordPath):\n",
    "        \"\"\"\n",
    "        读取停用词\n",
    "        \"\"\"\n",
    "        with open(stopWordPath, \"r\") as f:\n",
    "            stopWords = f.read()\n",
    "            stopWordList = stopWords.splitlines()\n",
    "            # 将停用词用列表的形式生成，之后查找停用词时会比较快\n",
    "            self.stopWordDict = dict(zip(stopWordList, list(range(len(stopWordList)))))\n",
    "    \n",
    "    def getWordEmbedding(self, words):\n",
    "        \"\"\"\n",
    "        按照我们的数据集中的单词取出预训练好的word2vec中的词向量\n",
    "        \"\"\"\n",
    "        #中文\n",
    "        model = gensim.models.Word2Vec.load('../word2VecModel')\n",
    "        vocab = []\n",
    "        wordEmbedding = []\n",
    "        # 添加 \"pad\" 和 \"UNK\", \n",
    "        vocab.append(\"pad\")\n",
    "        wordEmbedding.append(np.zeros(self.embeddingSize))\n",
    "        vocab.append(\"UNK\")\n",
    "        wordEmbedding.append(np.random.randn(self.embeddingSize))\n",
    "        for word in words:\n",
    "            vector =model[word]\n",
    "            vocab.append(word)\n",
    "            wordEmbedding.append(vector)           \n",
    "        return vocab, np.array(wordEmbedding)\n",
    "    \n",
    "    def genVocabulary(self, reviews):\n",
    "        \"\"\"\n",
    "        生成词向量和词汇-索引映射字典，可以用全数据集\n",
    "        \"\"\"\n",
    "        allWords = [word for review in reviews for word in review]\n",
    "        #去掉停用词\n",
    "#         subWords = [word for word in allWords if word not in self.stopWordDict]\n",
    "        #统计词频，排序\n",
    "#         wordCount = Counter(subWords)\n",
    "        wordCount = Counter(allWords)\n",
    "        sortWordCount = sorted(wordCount.items(), key=lambda x: x[1], reverse=True)\n",
    "        #去除低频词\n",
    "        words = [item[0] for item in sortWordCount if item[1] >= self.miniFreq ]\n",
    "        #获取词列表和顺序对应的预训练权重矩阵\n",
    "        vocab, wordEmbedding = self.getWordEmbedding(words)\n",
    "        \n",
    "        self.wordEmbedding = wordEmbedding\n",
    "        \n",
    "        self.wordToIndex = dict(zip(vocab, list(range(len(vocab)))))\n",
    "        self.indexToWord = dict(zip(list(range(len(vocab))), vocab))\n",
    "        self.n_symbols = len(self.wordToIndex) + 1\n",
    "        \n",
    "        # 将词汇-索引映射表保存为json数据，之后做inference时直接加载来处理数据\n",
    "        with open(\"../wordJson/wordToIndex.json\", \"w\", encoding=\"utf-8\") as f:\n",
    "            json.dump(self.wordToIndex, f)\n",
    "        with open(\"../wordJson/indexToWord.json\", \"w\", encoding=\"utf-8\") as f:\n",
    "            json.dump(self.indexToWord, f)\n",
    "            \n",
    "    def reviewProcess(self, review, sequenceLength, wordToIndex):\n",
    "        \"\"\"\n",
    "        将数据集中的每条评论里面的词，根据词表，映射为index表示\n",
    "        每条评论 用index组成的定长数组来表示\n",
    "        \"\"\"\n",
    "        review=list(review)\n",
    "        reviewVec = np.zeros((sequenceLength))\n",
    "        sequenceLen = sequenceLength\n",
    "        # 判断当前的序列是否小于定义的固定序列长度\n",
    "        if len(review) < sequenceLength:\n",
    "            sequenceLen = len(review)\n",
    "            \n",
    "        for i in range(sequenceLen):\n",
    "            if review[i] in wordToIndex:\n",
    "                reviewVec[i] = wordToIndex[review[i]]\n",
    "            else:\n",
    "                reviewVec[i] = wordToIndex[\"UNK\"]\n",
    "        return reviewVec\n",
    "\n",
    "    def genTrainEvalData(self, x, y, rate):\n",
    "        \"\"\"\n",
    "        生成训练集和验证集\n",
    "        \"\"\"\n",
    "        reviews = []\n",
    "        labels = []\n",
    "        # 遍历所有的文本，将文本中的词转换成index表示\n",
    "        for i in range(len(x)):\n",
    "            reviewVec = self.reviewProcess(x[i], self.sequenceLength, self.wordToIndex)\n",
    "            reviews.append(reviewVec)\n",
    "            labels.append([y[i]])    \n",
    "        trainIndex = int(len(x) * rate)\n",
    "        \n",
    "        #trainReviews = sequence.pad_sequences(reviews[:trainIndex], maxlen=self.sequenceLength)\n",
    "        trainReviews = np.asarray(reviews[:trainIndex], dtype=\"int64\")\n",
    "        trainLabels = np.array(labels[:trainIndex], dtype=\"float32\")\n",
    "        #evalReviews = sequence.pad_sequences(reviews[trainIndex:], maxlen=self.sequenceLength)\n",
    "        evalReviews = np.asarray(reviews[trainIndex:], dtype=\"int64\")\n",
    "        evalLabels = np.array(labels[trainIndex:], dtype=\"float32\")\n",
    "        return trainReviews, trainLabels, evalReviews, evalLabels\n",
    "         \n",
    "    def dataGen(self):\n",
    "        \"\"\"\n",
    "        初始化训练集和验证集\n",
    "        \"\"\"\n",
    "        #读取停用词\n",
    "        self.readStopWord(self.stopWordSource)\n",
    "        #读取数据集\n",
    "        reviews, labels = self.readData(self.dataSource)\n",
    "        #分词、去停用词\n",
    "        #生成 词汇-索引 映射表和预训练权重矩阵，并保存\n",
    "        self.genVocabulary(reviews)\n",
    "        #初始化训练集和测试集\n",
    "        trainReviews, trainLabels, evalReviews, evalLabels = self.genTrainEvalData(reviews, labels, self.rate)\n",
    "        self.trainReviews = trainReviews\n",
    "        self.trainLabels = trainLabels\n",
    "        self.evalReviews = evalReviews\n",
    "        self.evalLabels = evalLabels\n",
    "\n",
    "data = Dataset(config)\n",
    "data.dataGen()"
   ]
  },
  {
   "cell_type": "code",
   "execution_count": 9,
   "metadata": {},
   "outputs": [
    {
     "name": "stdout",
     "output_type": "stream",
     "text": [
      "train data shape: (5056, 20)\n",
      "train label shape: (5056, 1)\n",
      "eval data shape: (1265, 20)\n"
     ]
    }
   ],
   "source": [
    "print(\"train data shape: {}\".format(data.trainReviews.shape))\n",
    "print(\"train label shape: {}\".format(data.trainLabels.shape))\n",
    "print(\"eval data shape: {}\".format(data.evalReviews.shape))"
   ]
  },
  {
   "cell_type": "code",
   "execution_count": 10,
   "metadata": {},
   "outputs": [
    {
     "name": "stdout",
     "output_type": "stream",
     "text": [
      "Model: \"sequential\"\n",
      "_________________________________________________________________\n",
      "Layer (type)                 Output Shape              Param #   \n",
      "=================================================================\n",
      "embedding (Embedding)        (None, 20, 200)           236200    \n",
      "_________________________________________________________________\n",
      "reshape (Reshape)            (None, 20, 200, 1)        0         \n",
      "_________________________________________________________________\n",
      "model (Model)                (None, 1, 1, 768)         538368    \n",
      "_________________________________________________________________\n",
      "flatten (Flatten)            (None, 768)               0         \n",
      "_________________________________________________________________\n",
      "dense (Dense)                (None, 6)                 4614      \n",
      "=================================================================\n",
      "Total params: 779,182\n",
      "Trainable params: 779,182\n",
      "Non-trainable params: 0\n",
      "_________________________________________________________________\n"
     ]
    }
   ],
   "source": [
    "def convolution(config):\n",
    "    sequence_length=config.sequenceLength\n",
    "    embedding_dimension=config.embeddingSize\n",
    "    \n",
    "    inn = Input(shape=(sequence_length, embedding_dimension, 1))\n",
    "    cnns = []\n",
    "    filter_sizes=config.filterSizes\n",
    "    for size in filter_sizes:\n",
    "        conv = Conv2D(filters=config.numFilters, kernel_size=(size, embedding_dimension),\n",
    "                            strides=1, padding='valid', activation='relu')(inn)\n",
    "        pool = MaxPool2D(pool_size=(sequence_length-size+1, 1), padding='valid')(conv)\n",
    "        cnns.append(pool)\n",
    "    outt =concatenate(cnns)\n",
    "    model = Model(inputs=inn, outputs=outt)\n",
    "    return model\n",
    "\n",
    "def cnn_mulfilter(n_symbols,embedding_weights,config):\n",
    "    model =Sequential([\n",
    "        Embedding(input_dim=n_symbols, output_dim=config.embeddingSize,\n",
    "                        weights=[embedding_weights],\n",
    "                        input_length=config.sequenceLength, trainable=True),\n",
    "        Reshape((config.sequenceLength, config.embeddingSize, 1)),\n",
    "        convolution(config),\n",
    "        Flatten(),\n",
    "#         Dense(10, activation='relu',kernel_regularizer=regularizers.l2(config.l2RegLambda)),\n",
    "#         Dropout(config.dropoutKeepProb),\n",
    "        Dense(6, activation='softmax')])\n",
    "    \n",
    "#     model.compile(loss='SparseCategoricalCrossentropy',optimizer='adam',metrics=['accuracy'])\n",
    "    model.compile(optimizer=optimizers.Adam(lr=1e-3),\n",
    "                 loss=losses.SparseCategoricalCrossentropy(),\n",
    "                 metrics=['accuracy'])\n",
    "    return model\n",
    "    \n",
    "wordEmbedding = data.wordEmbedding\n",
    "n_symbols=data.n_symbols\n",
    "model = cnn_mulfilter(n_symbols,wordEmbedding,config)\n",
    "model.summary()"
   ]
  },
  {
   "cell_type": "code",
   "execution_count": 11,
   "metadata": {},
   "outputs": [
    {
     "name": "stdout",
     "output_type": "stream",
     "text": [
      "Train on 5005 samples, validate on 51 samples\n",
      "Epoch 1/20\n",
      "5005/5005 [==============================] - 6s 1ms/sample - loss: 1.0214 - accuracy: 0.6122 - val_loss: 0.5607 - val_accuracy: 0.8431\n",
      "Epoch 2/20\n",
      "5005/5005 [==============================] - 4s 833us/sample - loss: 0.4434 - accuracy: 0.8464 - val_loss: 0.4589 - val_accuracy: 0.9020\n",
      "Epoch 3/20\n",
      "5005/5005 [==============================] - 4s 879us/sample - loss: 0.3146 - accuracy: 0.8919 - val_loss: 0.4415 - val_accuracy: 0.8824\n",
      "Epoch 4/20\n",
      "5005/5005 [==============================] - 4s 892us/sample - loss: 0.2411 - accuracy: 0.9183 - val_loss: 0.4937 - val_accuracy: 0.8627\n",
      "Epoch 5/20\n",
      "5005/5005 [==============================] - 4s 872us/sample - loss: 0.1876 - accuracy: 0.9401 - val_loss: 0.4844 - val_accuracy: 0.8235\n",
      "Epoch 6/20\n",
      "5005/5005 [==============================] - 5s 922us/sample - loss: 0.1523 - accuracy: 0.9518 - val_loss: 0.5346 - val_accuracy: 0.8235\n",
      "Epoch 7/20\n",
      "5005/5005 [==============================] - 5s 915us/sample - loss: 0.1159 - accuracy: 0.9660 - val_loss: 0.5424 - val_accuracy: 0.8431\n",
      "Epoch 8/20\n",
      "5005/5005 [==============================] - 5s 909us/sample - loss: 0.0894 - accuracy: 0.9736 - val_loss: 0.5752 - val_accuracy: 0.8039\n",
      "Epoch 9/20\n",
      "5005/5005 [==============================] - 5s 936us/sample - loss: 0.0686 - accuracy: 0.9852 - val_loss: 0.5769 - val_accuracy: 0.8235\n",
      "Epoch 10/20\n",
      "5005/5005 [==============================] - 5s 918us/sample - loss: 0.0592 - accuracy: 0.9858 - val_loss: 0.6435 - val_accuracy: 0.8235\n",
      "Epoch 11/20\n",
      "5005/5005 [==============================] - 4s 884us/sample - loss: 0.0462 - accuracy: 0.9918 - val_loss: 0.6394 - val_accuracy: 0.8431\n",
      "Epoch 12/20\n",
      "5005/5005 [==============================] - 5s 904us/sample - loss: 0.0347 - accuracy: 0.9942 - val_loss: 0.7123 - val_accuracy: 0.8039\n",
      "Epoch 13/20\n",
      "5005/5005 [==============================] - 5s 913us/sample - loss: 0.0255 - accuracy: 0.9972 - val_loss: 0.7123 - val_accuracy: 0.8039\n",
      "Epoch 14/20\n",
      "5005/5005 [==============================] - 4s 884us/sample - loss: 0.0207 - accuracy: 0.9984 - val_loss: 0.7496 - val_accuracy: 0.8431\n",
      "Epoch 15/20\n",
      "5005/5005 [==============================] - 5s 906us/sample - loss: 0.0161 - accuracy: 0.9988 - val_loss: 0.7581 - val_accuracy: 0.8431\n",
      "Epoch 16/20\n",
      "5005/5005 [==============================] - 5s 927us/sample - loss: 0.0132 - accuracy: 0.9990 - val_loss: 0.7835 - val_accuracy: 0.8431\n",
      "Epoch 17/20\n",
      "5005/5005 [==============================] - 4s 873us/sample - loss: 0.0121 - accuracy: 0.9990 - val_loss: 0.8014 - val_accuracy: 0.8235\n",
      "Epoch 18/20\n",
      "5005/5005 [==============================] - 5s 928us/sample - loss: 0.0095 - accuracy: 0.9992 - val_loss: 0.8332 - val_accuracy: 0.8431\n",
      "Epoch 19/20\n",
      "5005/5005 [==============================] - 5s 959us/sample - loss: 0.0080 - accuracy: 0.9998 - val_loss: 0.8330 - val_accuracy: 0.8431\n",
      "Epoch 20/20\n",
      "5005/5005 [==============================] - 5s 913us/sample - loss: 0.0066 - accuracy: 1.0000 - val_loss: 0.8721 - val_accuracy: 0.8039\n",
      "1265/1265 [==============================] - 0s 221us/sample - loss: 0.7195 - accuracy: 0.8458\n",
      "test_loss: 0.719549, accuracy: 0.845850\n"
     ]
    }
   ],
   "source": [
    "x_train = data.trainReviews\n",
    "y_train = data.trainLabels\n",
    "x_eval = data.evalReviews\n",
    "y_eval = data.evalLabels\n",
    "\n",
    "# y_train = to_categorical(y_train)\n",
    "# y_eval = to_categorical(y_eval)\n",
    "\n",
    "wordEmbedding = data.wordEmbedding\n",
    "n_symbols=data.n_symbols\n",
    "\n",
    "reduce_lr = ReduceLROnPlateau(monitor='val_loss', patience=10, mode='auto')\n",
    "\n",
    "early_stopping = EarlyStopping(monitor='val_loss', patience=5)\n",
    "model_checkpoint = ModelCheckpoint('./model/best_model/model_{epoch:02d}-{val_accuracy:.2f}.hdf5', save_best_only=True, save_weights_only=True)\n",
    "# history = model.fit(x_train, y_train, batch_size=config.batchSize, epochs=config.epochs, validation_split=0.2,shuffle=True, callbacks=[reduce_lr,early_stopping,model_checkpoint])\n",
    "history = model.fit(x_train, y_train, batch_size=config.batchSize, epochs=config.epochs, validation_split=0.2,shuffle=True, callbacks=[model_checkpoint])\n",
    "\n",
    "#验证\n",
    "scores = model.evaluate(x_eval, y_eval)\n",
    "\n",
    "#保存模型\n",
    "yaml_string = model.to_yaml()\n",
    "with open('./model/textCNN.yml', 'w') as outfile:\n",
    "    outfile.write( yaml.dump(yaml_string, default_flow_style=True) )\n",
    "model.save_weights('./model/textCNN.h5')\n",
    "\n",
    "print('test_loss: %f, accuracy: %f' % (scores[0], scores[1]))"
   ]
  },
  {
   "cell_type": "code",
   "execution_count": 12,
   "metadata": {},
   "outputs": [
    {
     "data": {
      "text/plain": [
       "['BinaryCrossentropy',\n",
       " 'CategoricalCrossentropy',\n",
       " 'CategoricalHinge',\n",
       " 'CosineSimilarity',\n",
       " 'Hinge',\n",
       " 'Huber',\n",
       " 'KLD',\n",
       " 'KLDivergence',\n",
       " 'LogCosh',\n",
       " 'LogLoss',\n",
       " 'Loss',\n",
       " 'MAE',\n",
       " 'MAPE',\n",
       " 'MSE',\n",
       " 'MSLE',\n",
       " 'MeanAbsoluteError',\n",
       " 'MeanAbsolutePercentageError',\n",
       " 'MeanSquaredError',\n",
       " 'MeanSquaredLogarithmicError',\n",
       " 'Poisson',\n",
       " 'Reduction',\n",
       " 'SparseCategoricalCrossentropy',\n",
       " 'SquaredHinge',\n",
       " '__builtins__',\n",
       " '__cached__',\n",
       " '__doc__',\n",
       " '__file__',\n",
       " '__loader__',\n",
       " '__name__',\n",
       " '__package__',\n",
       " '__path__',\n",
       " '__spec__',\n",
       " 'binary_crossentropy',\n",
       " 'categorical_crossentropy',\n",
       " 'categorical_hinge',\n",
       " 'cosine_similarity',\n",
       " 'deserialize',\n",
       " 'get',\n",
       " 'hinge',\n",
       " 'kld',\n",
       " 'kullback_leibler_divergence',\n",
       " 'logcosh',\n",
       " 'mae',\n",
       " 'mape',\n",
       " 'mean_absolute_error',\n",
       " 'mean_absolute_percentage_error',\n",
       " 'mean_squared_error',\n",
       " 'mean_squared_logarithmic_error',\n",
       " 'mse',\n",
       " 'msle',\n",
       " 'poisson',\n",
       " 'serialize',\n",
       " 'sparse_categorical_crossentropy',\n",
       " 'squared_hinge']"
      ]
     },
     "execution_count": 12,
     "metadata": {},
     "output_type": "execute_result"
    }
   ],
   "source": [
    "dir(losses)"
   ]
  },
  {
   "cell_type": "code",
   "execution_count": 13,
   "metadata": {},
   "outputs": [
    {
     "data": {
      "text/plain": [
       "array([[1.],\n",
       "       [4.],\n",
       "       [3.],\n",
       "       ...,\n",
       "       [3.],\n",
       "       [0.],\n",
       "       [3.]], dtype=float32)"
      ]
     },
     "execution_count": 13,
     "metadata": {},
     "output_type": "execute_result"
    }
   ],
   "source": [
    "y_train"
   ]
  },
  {
   "cell_type": "code",
   "execution_count": 14,
   "metadata": {},
   "outputs": [
    {
     "data": {
      "text/plain": [
       "array([[0., 1., 0., 0., 0.],\n",
       "       [0., 0., 0., 0., 1.],\n",
       "       [0., 0., 0., 1., 0.],\n",
       "       ...,\n",
       "       [0., 0., 0., 1., 0.],\n",
       "       [1., 0., 0., 0., 0.],\n",
       "       [0., 0., 0., 1., 0.]], dtype=float32)"
      ]
     },
     "execution_count": 14,
     "metadata": {},
     "output_type": "execute_result"
    }
   ],
   "source": [
    "to_categorical(y_train)"
   ]
  },
  {
   "cell_type": "code",
   "execution_count": 15,
   "metadata": {},
   "outputs": [
    {
     "data": {
      "text/plain": [
       "1181"
      ]
     },
     "execution_count": 15,
     "metadata": {},
     "output_type": "execute_result"
    }
   ],
   "source": [
    "n_symbols"
   ]
  },
  {
   "cell_type": "code",
   "execution_count": null,
   "metadata": {},
   "outputs": [],
   "source": []
  }
 ],
 "metadata": {
  "kernelspec": {
   "display_name": "Python 3",
   "language": "python",
   "name": "python3"
  },
  "language_info": {
   "codemirror_mode": {
    "name": "ipython",
    "version": 3
   },
   "file_extension": ".py",
   "mimetype": "text/x-python",
   "name": "python",
   "nbconvert_exporter": "python",
   "pygments_lexer": "ipython3",
   "version": "3.7.3"
  }
 },
 "nbformat": 4,
 "nbformat_minor": 4
}
